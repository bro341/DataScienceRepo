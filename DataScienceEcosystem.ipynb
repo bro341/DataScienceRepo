{
 "cells": [
  {
   "cell_type": "markdown",
   "id": "84c48449-f44a-462c-a867-623a77181b48",
   "metadata": {},
   "source": [
    "# Data Science Tools and Ecosystem"
   ]
  },
  {
   "cell_type": "markdown",
   "id": "32cccb06-2741-4c5d-9aca-790c63995f19",
   "metadata": {},
   "source": [
    "## In this notebook, Data Science Tools and Ecosystem are summarized."
   ]
  },
  {
   "cell_type": "markdown",
   "id": "53009751-caaf-4121-9ff0-e958f5f56e68",
   "metadata": {},
   "source": [
    "**Objectives:**\n",
    "* Data Science Tools\n",
    "* List popular languages for Data Science\n",
    "* Evaluating arithmetic expressions in Python"
   ]
  },
  {
   "cell_type": "markdown",
   "id": "3c3efdaf-bca9-4f87-83a7-16e75d5bec1a",
   "metadata": {},
   "source": [
    "### Some of the popular languages that Data Scientists use are:\n",
    "1. Python\n",
    "2. R\n",
    "3. Scala\n",
    "4. Julia"
   ]
  },
  {
   "cell_type": "markdown",
   "id": "66855e50-74a8-424e-8b1b-f20902597bc8",
   "metadata": {},
   "source": [
    "### Some of the commonly used libraries used by Data Scientists include:\n",
    "1. Pandas\n",
    "2. Numpy\n",
    "3. Matplotlib"
   ]
  },
  {
   "cell_type": "markdown",
   "id": "5d33618f-02c4-4c73-a5ca-77bbc099c2bb",
   "metadata": {},
   "source": [
    "| Data Science Tools |\n",
    "|----------------------|\n",
    "| 1.Juperter Notebook |\n",
    "| 2. Spyder |\n",
    "| 3. VS Code |\n",
    "| 4. Juperter Lab |"
   ]
  },
  {
   "cell_type": "markdown",
   "id": "eefaf309-2365-402f-b558-9de508dccf81",
   "metadata": {},
   "source": [
    "### Below are a few examples of evaluating arithmetic expressions in Python"
   ]
  },
  {
   "cell_type": "code",
   "execution_count": 1,
   "id": "2593b241-37fb-443e-a8fb-e19f98aedc5b",
   "metadata": {
    "tags": []
   },
   "outputs": [
    {
     "data": {
      "text/plain": [
       "17"
      ]
     },
     "execution_count": 1,
     "metadata": {},
     "output_type": "execute_result"
    }
   ],
   "source": [
    "#This a simple arithmetic expression to mutiply then add integers\n",
    "(3*4)+5"
   ]
  },
  {
   "cell_type": "code",
   "execution_count": 2,
   "id": "54549618-8533-485e-b669-350054a3936e",
   "metadata": {
    "tags": []
   },
   "outputs": [
    {
     "data": {
      "text/plain": [
       "3.3333333333333335"
      ]
     },
     "execution_count": 2,
     "metadata": {},
     "output_type": "execute_result"
    }
   ],
   "source": [
    "# This will convert 200 minutes to hours by diving by 60\n",
    "200/60"
   ]
  },
  {
   "cell_type": "markdown",
   "id": "ae7c5f53-3772-4889-ac9e-7f9106518e98",
   "metadata": {},
   "source": [
    "## Author\n",
    "Alhassan Ibrahim"
   ]
  },
  {
   "cell_type": "code",
   "execution_count": null,
   "id": "bdcdd747-c896-4719-8ef1-d7906a543d6f",
   "metadata": {},
   "outputs": [],
   "source": []
  }
 ],
 "metadata": {
  "kernelspec": {
   "display_name": "Python",
   "language": "python",
   "name": "conda-env-python-py"
  },
  "language_info": {
   "codemirror_mode": {
    "name": "ipython",
    "version": 3
   },
   "file_extension": ".py",
   "mimetype": "text/x-python",
   "name": "python",
   "nbconvert_exporter": "python",
   "pygments_lexer": "ipython3",
   "version": "3.7.12"
  }
 },
 "nbformat": 4,
 "nbformat_minor": 5
}
